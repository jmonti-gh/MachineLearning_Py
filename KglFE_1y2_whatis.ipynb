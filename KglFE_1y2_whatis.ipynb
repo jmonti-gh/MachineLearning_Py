{
 "cells": [
  {
   "cell_type": "markdown",
   "id": "f7aa5954-0f45-4fc1-970d-0ae328540a79",
   "metadata": {},
   "source": [
    "# Kaggle Feature Engineering microcurse\n",
    "- Better features make better models. \n",
    "- Discover how to get the most out of your data\n",
    "- https://www.kaggle.com/learn/feature-engineering"
   ]
  },
  {
   "cell_type": "markdown",
   "id": "f97cbd0e-4259-4ea7-88c3-ca592e8d5b55",
   "metadata": {},
   "source": [
    "## 1.- What Is Feature Engineering\n",
    "- Learn the steps and principles of creating better features"
   ]
  },
  {
   "cell_type": "markdown",
   "id": "1b35ccc6-6e48-4570-8f6b-d8ac8d2ccc67",
   "metadata": {},
   "source": [
    "1. determine which features are the most importan with *mutual information*\n",
    "2. invent new features in several real-world problem domains\n",
    "3. encode hisgh-cardinality categoricals with a *target encoding*\n",
    "4. create segmentation features with *k-means clustering*\n",
    "5. decompose a dataset´s variation into features with *principal component analysis*"
   ]
  },
  {
   "cell_type": "markdown",
   "id": "bd25df41-0442-4fbe-a005-be129fbe502b",
   "metadata": {
    "jp-MarkdownHeadingCollapsed": true
   },
   "source": [
    "### The Goal of Feature Engineering\n",
    "- make your data better suited to the problem at hand"
   ]
  },
  {
   "cell_type": "markdown",
   "id": "d50c02b8-8258-474e-a668-271d507f6ba2",
   "metadata": {},
   "source": [
    "1. improve a model´s predictive performance\n",
    "2. reduce comupational or data needs\n",
    "3. improve interpretability of the resutls"
   ]
  },
  {
   "cell_type": "markdown",
   "id": "8b8cebef-9e56-44ee-b90e-5a165511f913",
   "metadata": {
    "jp-MarkdownHeadingCollapsed": true
   },
   "source": [
    "### A Guiding Principle of Feature Engineering"
   ]
  },
  {
   "cell_type": "markdown",
   "id": "c6bbf6e5-fcbe-4b93-9682-c8d85a79cf30",
   "metadata": {},
   "source": [
    "- For a feature to be useful, it must have a relatoinship to the target that your model es able to learn.\r",
    "- \n",
    "Linear models, for instance, are only able to learn linear relationships\n",
    "- \r\n",
    "So, when using a liner model, your goal is to transform the features to make their relationship to the target linea\n",
    "- .\r\n",
    "The key ideas here is that a transformation you apply to a feature becomes in essence part of the model itse\n",
    "- f.\r\n",
    "ex. trying to predict Price of square plots of land from de Lenght, the relationship (b/price and Lenght) will be linear  nly if we transform lentght to area (are squares)."
   ]
  },
  {
   "cell_type": "markdown",
   "id": "296192f5-6cf7-4ecd-a12b-bdeb0c44ff13",
   "metadata": {
    "jp-MarkdownHeadingCollapsed": true
   },
   "source": [
    "### Example - Concrete Formulations\n",
    "- Add 'synthetic'features can improve the predictive performance of a model."
   ]
  },
  {
   "cell_type": "code",
   "execution_count": 1,
   "id": "0a8f7e4e-0866-4b1c-8217-1340d84451cc",
   "metadata": {},
   "outputs": [
    {
     "data": {
      "text/plain": [
       "'2.0.1'"
      ]
     },
     "execution_count": 1,
     "metadata": {},
     "output_type": "execute_result"
    }
   ],
   "source": [
    "import zipfile as zfm\n",
    "import pandas as pd\n",
    "pd.__version__"
   ]
  },
  {
   "cell_type": "code",
   "execution_count": 2,
   "id": "aa8e6a8a-a128-4ed4-87c4-9563ed6e2a49",
   "metadata": {
    "scrolled": true
   },
   "outputs": [],
   "source": [
    "#url = 'https://github.com/jmonti-gh/Datasets/blob/\\\n",
    "#c790af2d1885dcd63baea8b5a6f9dc8c1b8a1531/Concrete_Data.xls'\n",
    "# url = 'https://github.com/jmonti-gh/Datasets/blob/main/test.csv'\n",
    "# df = pd.read_csv(url)\n",
    "# df"
   ]
  },
  {
   "cell_type": "code",
   "execution_count": 3,
   "id": "506ec6cf-6fd7-4e3f-834a-922b6befa5f9",
   "metadata": {},
   "outputs": [
    {
     "name": "stdout",
     "output_type": "stream",
     "text": [
      "(1030, 9)\n"
     ]
    },
    {
     "data": {
      "text/html": [
       "<div>\n",
       "<style scoped>\n",
       "    .dataframe tbody tr th:only-of-type {\n",
       "        vertical-align: middle;\n",
       "    }\n",
       "\n",
       "    .dataframe tbody tr th {\n",
       "        vertical-align: top;\n",
       "    }\n",
       "\n",
       "    .dataframe thead th {\n",
       "        text-align: right;\n",
       "    }\n",
       "</style>\n",
       "<table border=\"1\" class=\"dataframe\">\n",
       "  <thead>\n",
       "    <tr style=\"text-align: right;\">\n",
       "      <th></th>\n",
       "      <th>Cement (component 1)(kg in a m^3 mixture)</th>\n",
       "      <th>Blast Furnace Slag (component 2)(kg in a m^3 mixture)</th>\n",
       "      <th>Fly Ash (component 3)(kg in a m^3 mixture)</th>\n",
       "      <th>Water  (component 4)(kg in a m^3 mixture)</th>\n",
       "      <th>Superplasticizer (component 5)(kg in a m^3 mixture)</th>\n",
       "      <th>Coarse Aggregate  (component 6)(kg in a m^3 mixture)</th>\n",
       "      <th>Fine Aggregate (component 7)(kg in a m^3 mixture)</th>\n",
       "      <th>Age (day)</th>\n",
       "      <th>Concrete compressive strength(MPa, megapascals)</th>\n",
       "    </tr>\n",
       "  </thead>\n",
       "  <tbody>\n",
       "    <tr>\n",
       "      <th>0</th>\n",
       "      <td>540.0</td>\n",
       "      <td>0.0</td>\n",
       "      <td>0.0</td>\n",
       "      <td>162.0</td>\n",
       "      <td>2.5</td>\n",
       "      <td>1040.0</td>\n",
       "      <td>676.0</td>\n",
       "      <td>28</td>\n",
       "      <td>79.986111</td>\n",
       "    </tr>\n",
       "    <tr>\n",
       "      <th>9</th>\n",
       "      <td>475.0</td>\n",
       "      <td>0.0</td>\n",
       "      <td>0.0</td>\n",
       "      <td>228.0</td>\n",
       "      <td>0.0</td>\n",
       "      <td>932.0</td>\n",
       "      <td>594.0</td>\n",
       "      <td>28</td>\n",
       "      <td>39.289790</td>\n",
       "    </tr>\n",
       "    <tr>\n",
       "      <th>1021</th>\n",
       "      <td>298.2</td>\n",
       "      <td>0.0</td>\n",
       "      <td>107.0</td>\n",
       "      <td>209.7</td>\n",
       "      <td>11.1</td>\n",
       "      <td>879.6</td>\n",
       "      <td>744.2</td>\n",
       "      <td>28</td>\n",
       "      <td>31.875165</td>\n",
       "    </tr>\n",
       "    <tr>\n",
       "      <th>1029</th>\n",
       "      <td>260.9</td>\n",
       "      <td>100.5</td>\n",
       "      <td>78.3</td>\n",
       "      <td>200.6</td>\n",
       "      <td>8.6</td>\n",
       "      <td>864.5</td>\n",
       "      <td>761.5</td>\n",
       "      <td>28</td>\n",
       "      <td>32.401235</td>\n",
       "    </tr>\n",
       "  </tbody>\n",
       "</table>\n",
       "</div>"
      ],
      "text/plain": [
       "      Cement (component 1)(kg in a m^3 mixture)   \n",
       "0                                         540.0  \\\n",
       "9                                         475.0   \n",
       "1021                                      298.2   \n",
       "1029                                      260.9   \n",
       "\n",
       "      Blast Furnace Slag (component 2)(kg in a m^3 mixture)   \n",
       "0                                                   0.0      \\\n",
       "9                                                   0.0       \n",
       "1021                                                0.0       \n",
       "1029                                              100.5       \n",
       "\n",
       "      Fly Ash (component 3)(kg in a m^3 mixture)   \n",
       "0                                            0.0  \\\n",
       "9                                            0.0   \n",
       "1021                                       107.0   \n",
       "1029                                        78.3   \n",
       "\n",
       "      Water  (component 4)(kg in a m^3 mixture)   \n",
       "0                                         162.0  \\\n",
       "9                                         228.0   \n",
       "1021                                      209.7   \n",
       "1029                                      200.6   \n",
       "\n",
       "      Superplasticizer (component 5)(kg in a m^3 mixture)   \n",
       "0                                                   2.5    \\\n",
       "9                                                   0.0     \n",
       "1021                                               11.1     \n",
       "1029                                                8.6     \n",
       "\n",
       "      Coarse Aggregate  (component 6)(kg in a m^3 mixture)   \n",
       "0                                                1040.0     \\\n",
       "9                                                 932.0      \n",
       "1021                                              879.6      \n",
       "1029                                              864.5      \n",
       "\n",
       "      Fine Aggregate (component 7)(kg in a m^3 mixture)  Age (day)   \n",
       "0                                                 676.0         28  \\\n",
       "9                                                 594.0         28   \n",
       "1021                                              744.2         28   \n",
       "1029                                              761.5         28   \n",
       "\n",
       "      Concrete compressive strength(MPa, megapascals)   \n",
       "0                                            79.986111  \n",
       "9                                            39.289790  \n",
       "1021                                         31.875165  \n",
       "1029                                         32.401235  "
      ]
     },
     "metadata": {},
     "output_type": "display_data"
    },
    {
     "data": {
      "text/html": [
       "<div>\n",
       "<style scoped>\n",
       "    .dataframe tbody tr th:only-of-type {\n",
       "        vertical-align: middle;\n",
       "    }\n",
       "\n",
       "    .dataframe tbody tr th {\n",
       "        vertical-align: top;\n",
       "    }\n",
       "\n",
       "    .dataframe thead th {\n",
       "        text-align: right;\n",
       "    }\n",
       "</style>\n",
       "<table border=\"1\" class=\"dataframe\">\n",
       "  <thead>\n",
       "    <tr style=\"text-align: right;\">\n",
       "      <th></th>\n",
       "      <th>cement</th>\n",
       "      <th>slag</th>\n",
       "      <th>ash</th>\n",
       "      <th>water</th>\n",
       "      <th>superplastic</th>\n",
       "      <th>coarseagg</th>\n",
       "      <th>fineagg</th>\n",
       "      <th>age</th>\n",
       "      <th>strength</th>\n",
       "    </tr>\n",
       "  </thead>\n",
       "  <tbody>\n",
       "    <tr>\n",
       "      <th>0</th>\n",
       "      <td>540.0</td>\n",
       "      <td>0.0</td>\n",
       "      <td>0.0</td>\n",
       "      <td>162.0</td>\n",
       "      <td>2.5</td>\n",
       "      <td>1040.0</td>\n",
       "      <td>676.0</td>\n",
       "      <td>28</td>\n",
       "      <td>79.99</td>\n",
       "    </tr>\n",
       "    <tr>\n",
       "      <th>9</th>\n",
       "      <td>475.0</td>\n",
       "      <td>0.0</td>\n",
       "      <td>0.0</td>\n",
       "      <td>228.0</td>\n",
       "      <td>0.0</td>\n",
       "      <td>932.0</td>\n",
       "      <td>594.0</td>\n",
       "      <td>28</td>\n",
       "      <td>39.29</td>\n",
       "    </tr>\n",
       "    <tr>\n",
       "      <th>1021</th>\n",
       "      <td>298.2</td>\n",
       "      <td>0.0</td>\n",
       "      <td>107.0</td>\n",
       "      <td>209.7</td>\n",
       "      <td>11.1</td>\n",
       "      <td>879.6</td>\n",
       "      <td>744.2</td>\n",
       "      <td>28</td>\n",
       "      <td>31.88</td>\n",
       "    </tr>\n",
       "    <tr>\n",
       "      <th>1029</th>\n",
       "      <td>260.9</td>\n",
       "      <td>100.5</td>\n",
       "      <td>78.3</td>\n",
       "      <td>200.6</td>\n",
       "      <td>8.6</td>\n",
       "      <td>864.5</td>\n",
       "      <td>761.5</td>\n",
       "      <td>28</td>\n",
       "      <td>32.40</td>\n",
       "    </tr>\n",
       "  </tbody>\n",
       "</table>\n",
       "</div>"
      ],
      "text/plain": [
       "      cement   slag    ash  water  superplastic  coarseagg  fineagg  age   \n",
       "0      540.0    0.0    0.0  162.0           2.5     1040.0    676.0   28  \\\n",
       "9      475.0    0.0    0.0  228.0           0.0      932.0    594.0   28   \n",
       "1021   298.2    0.0  107.0  209.7          11.1      879.6    744.2   28   \n",
       "1029   260.9  100.5   78.3  200.6           8.6      864.5    761.5   28   \n",
       "\n",
       "      strength  \n",
       "0        79.99  \n",
       "9        39.29  \n",
       "1021     31.88  \n",
       "1029     32.40  "
      ]
     },
     "metadata": {},
     "output_type": "display_data"
    }
   ],
   "source": [
    "zipfile = 'files/ConcreteCompressiveStrength.zip'\n",
    "dataset = 'Concrete_Data.xls'\n",
    "\n",
    "with zfm.ZipFile(zipfile) as zf:\n",
    "    df_xls = pd.read_excel(zf.open(dataset))\n",
    "\n",
    "df = pd.read_csv('files/concrete.csv')\n",
    "\n",
    "print(df.shape)\n",
    "display(df_xls.iloc[[0, 9, -9, -1]])\n",
    "display(df.iloc[[0, 9, -9, -1]])\n",
    "\n",
    "### read_axcel: install xlrd (for xls); install openpyxl (for xlsx)\n",
    "# https://stackoverflow.com/questions/48066517/python-pandas-pd-read-excel-giving-importerror-install-xlrd-0-9-0-for-excel"
   ]
  },
  {
   "cell_type": "markdown",
   "id": "56eada0e-5167-4a3e-bbb6-1238ab1b116b",
   "metadata": {},
   "source": [
    "The Concrete dataset contains a variety of concrete formulations and the resulting product's compressive strength, which is a measure of how much load that kind of concrete can bear. The task for this dataset is to predict a concrete's compressive strength given its formulation."
   ]
  },
  {
   "cell_type": "code",
   "execution_count": 4,
   "id": "e9efab02-ccb4-49c1-83ec-ad9e6c2a7813",
   "metadata": {},
   "outputs": [],
   "source": [
    "# libraries necesary to build and evaluate the model\n",
    "from sklearn.ensemble import RandomForestRegressor\n",
    "from sklearn.model_selection import cross_val_score"
   ]
  },
  {
   "cell_type": "markdown",
   "id": "b526f2fd-bf08-4557-9c5f-1fcf412b8e01",
   "metadata": {},
   "source": [
    "You can see in the df the various ingredients going into each variety of concrete. We'll see in a moment how adding some additional synthetic features derived from these can help a model to learn important relationships among them.\r\n",
    "\r\n",
    "We'll first establish a baseline by training the model on the un-augmented dataset. This will help us determine whether our new features are actually useful.\r\n",
    "\r\n",
    "Establishing baselines like this is good practice at the start of the feature engineering process. A baseline score can help you decide whether your new features are worth keeping, or whether you should discard them and possibly try something else."
   ]
  },
  {
   "cell_type": "code",
   "execution_count": 5,
   "id": "164e8823-1a5a-4b43-8b92-85be5a74d130",
   "metadata": {},
   "outputs": [
    {
     "data": {
      "text/plain": [
       "Index(['cement', 'slag', 'ash', 'water', 'superplastic', 'coarseagg',\n",
       "       'fineagg', 'age', 'strength'],\n",
       "      dtype='object')"
      ]
     },
     "execution_count": 5,
     "metadata": {},
     "output_type": "execute_result"
    }
   ],
   "source": [
    "df.columns"
   ]
  },
  {
   "cell_type": "code",
   "execution_count": 6,
   "id": "24503570-908e-489f-84e4-cdc849d3bb41",
   "metadata": {},
   "outputs": [],
   "source": [
    "target = df_xls.columns[-1]\n",
    "tdf = df.columns[-1]\n",
    "X = df.copy()\n",
    "y = X.pop(tdf)\n",
    "\n"
   ]
  },
  {
   "cell_type": "code",
   "execution_count": 7,
   "id": "04fe92de-a42f-41cb-aa64-0458cecd76fa",
   "metadata": {},
   "outputs": [
    {
     "name": "stdout",
     "output_type": "stream",
     "text": [
      "MAE Baseline Score: 8.232\n"
     ]
    }
   ],
   "source": [
    "# Train and score baseline model\n",
    "baseline = RandomForestRegressor(criterion=\"absolute_error\", random_state=0)\n",
    "baseline_score = cross_val_score(\n",
    "    baseline, X, y, cv=5, scoring=\"neg_mean_absolute_error\"\n",
    ")\n",
    "baseline_score = -1 * baseline_score.mean()\n",
    "\n",
    "print(f\"MAE Baseline Score: {baseline_score:.4}\")"
   ]
  },
  {
   "cell_type": "markdown",
   "id": "18c8f045-85e0-4b51-bc95-1fc18a97d429",
   "metadata": {},
   "source": [
    "If you ever cook at home, you might know that the ratio of ingredients in a recipe is usually a better predictor of how the recipe turns out than their absolute amounts. We might reason then that ratios of the features above would be a good predictor of CompressiveStrength.\r\n",
    "\r\n",
    "The cell below adds three new ratio features to the dataset."
   ]
  },
  {
   "cell_type": "code",
   "execution_count": 8,
   "id": "48799d57-6505-4205-9ac4-559f7ee9f841",
   "metadata": {},
   "outputs": [
    {
     "data": {
      "text/plain": [
       "Index(['cement', 'slag', 'ash', 'water', 'superplastic', 'coarseagg',\n",
       "       'fineagg', 'age', 'strength'],\n",
       "      dtype='object')"
      ]
     },
     "execution_count": 8,
     "metadata": {},
     "output_type": "execute_result"
    }
   ],
   "source": [
    "df.columns"
   ]
  },
  {
   "cell_type": "code",
   "execution_count": 9,
   "id": "9d3d9fb6-2bca-4a2c-ba43-f1a3c52f63d0",
   "metadata": {},
   "outputs": [
    {
     "name": "stdout",
     "output_type": "stream",
     "text": [
      "MAE Score with Ratio Features: 7.948\n"
     ]
    }
   ],
   "source": [
    "X = df.copy()\n",
    "y = X.pop(\"strength\")\n",
    "\n",
    "# Create synthetic features\n",
    "X[\"FCRatio\"] = X[\"fineagg\"] / X[\"coarseagg\"]\n",
    "X[\"AggCmtRatio\"] = (X[\"coarseagg\"] + X[\"fineagg\"]) / X[\"cement\"]\n",
    "X[\"WtrCmtRatio\"] = X[\"water\"] / X[\"cement\"]\n",
    "\n",
    "# Train and score model on dataset with additional ratio features\n",
    "model = RandomForestRegressor(criterion=\"absolute_error\", random_state=0)\n",
    "score = cross_val_score(\n",
    "    model, X, y, cv=5, scoring=\"neg_mean_absolute_error\"\n",
    ")\n",
    "score = -1 * score.mean()\n",
    "\n",
    "print(f\"MAE Score with Ratio Features: {score:.4}\")"
   ]
  },
  {
   "cell_type": "markdown",
   "id": "cbdfad5c-8f36-43dd-8e99-e8732f33bc3e",
   "metadata": {},
   "source": [
    "And sure enough, performance improved! This is evidence that these new ratio features exposed important information to the model that it wasn't detecting before.\n",
    "#### Continue\n",
    "We've seen that engineering new features can improve model performance. But how do you identify features in the dataset that might be useful to combine? __Discover useful features__ with mutual information."
   ]
  },
  {
   "cell_type": "markdown",
   "id": "4bdaa43c-2ec6-4640-b42b-1faa12d076ab",
   "metadata": {},
   "source": [
    "## 2.- Mutual Information\n",
    "- Locate features with the most potential."
   ]
  },
  {
   "cell_type": "markdown",
   "id": "041bcd70-9ae9-4d04-a9a0-da6ef4c4ee5d",
   "metadata": {},
   "source": [
    "### Intro\n",
    "- First encountering a new dataset can feel overhelming"
   ]
  },
  {
   "cell_type": "markdown",
   "id": "c3846460-f8fc-4f56-b164-f87dd68987c8",
   "metadata": {},
   "source": [
    "1. a great first step is construct a ranking with a __feature utility metric__ ( a function measuring associations between a feature and the target).\n",
    "2. Then you can choose a smaller set of the most useful features to develop initially and have more confidence that your time will be well spent.\n",
    "3. The metric we'll use is called \"mutual information\". "
   ]
  },
  {
   "cell_type": "markdown",
   "id": "543b2060-5c67-4601-b35d-78d85e31534b",
   "metadata": {},
   "source": [
    "#### Mutual information\n",
    "- is a lot like correlation in that it measures a relationship between two quantities. The advantage of mutual information is that it can detect any kind of relationship, while correlation only detects linear relationships.\n",
    "- Mutual information is a great general-purpose metric and especially useful at the start of feature development when you might not know what model you'd like to use yet. It is:\n",
    "  1. easy to use an interpret.\n",
    "  2. computationally efficient,\n",
    "  3. thererically well-founded,\n",
    "  4. resistant to overfitting, and,\n",
    "  5. able to detect any kind of relationship."
   ]
  },
  {
   "cell_type": "markdown",
   "id": "9d3b2d6f-97cf-4648-afd9-75b627854449",
   "metadata": {},
   "source": [
    "### Mutual Information and What It Measures"
   ]
  },
  {
   "cell_type": "code",
   "execution_count": null,
   "id": "dc6254fb-4869-4593-86e4-a4b24bec84a2",
   "metadata": {},
   "outputs": [],
   "source": []
  },
  {
   "cell_type": "code",
   "execution_count": null,
   "id": "89845728-5334-4753-bd6e-a9fdf1b9894c",
   "metadata": {},
   "outputs": [],
   "source": []
  },
  {
   "cell_type": "code",
   "execution_count": null,
   "id": "faa50f4a-c0d8-42ab-8464-23de90f7d367",
   "metadata": {},
   "outputs": [],
   "source": []
  },
  {
   "cell_type": "code",
   "execution_count": null,
   "id": "f7205a41-008d-4151-be65-1595b4f7ca35",
   "metadata": {},
   "outputs": [],
   "source": []
  },
  {
   "cell_type": "code",
   "execution_count": null,
   "id": "fcd3d025-543f-490d-8fc8-b6e65b072d30",
   "metadata": {},
   "outputs": [],
   "source": []
  },
  {
   "cell_type": "code",
   "execution_count": null,
   "id": "ee5fb6ef-9ae8-4e3d-b69a-10689ed72855",
   "metadata": {},
   "outputs": [],
   "source": []
  }
 ],
 "metadata": {
  "kernelspec": {
   "display_name": "Python 3 (ipykernel)",
   "language": "python",
   "name": "python3"
  },
  "language_info": {
   "codemirror_mode": {
    "name": "ipython",
    "version": 3
   },
   "file_extension": ".py",
   "mimetype": "text/x-python",
   "name": "python",
   "nbconvert_exporter": "python",
   "pygments_lexer": "ipython3",
   "version": "3.10.11"
  }
 },
 "nbformat": 4,
 "nbformat_minor": 5
}

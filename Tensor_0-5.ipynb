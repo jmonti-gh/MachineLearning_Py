{
 "cells": [
  {
   "attachments": {},
   "cell_type": "markdown",
   "metadata": {},
   "source": [
    "# Tensorflow\n",
    "\n",
    "> AI: the effort to automate intellectual tasks normally performed by humans.\n",
    "- A.I. can be simple or complex. Tic-Tac-To, Chess or PacMan is consider A.I.\n",
    "- Actual advance of A.I., like Machine Learning (ML), and Neural Networks (NN), are more complex. NN is also called deep learning.\n",
    "> ML: Rather then giving the program the rules, an algorithm finds the rules for us.\n",
    "- (NN part of ML) part of AI\n",
    "> NN: a for of ML that uses a layered representation of data.\n",
    "- DATA is the most important part of ML and AI (NN as well). Features and Labels.\n",
    "> Features: input information or predictors.    \n",
    "> Labels: output information or ... (what we are trying to look for or predict)\n",
    "- When we do AI (ML, NN) we need data, tons of diff data, tons of diff examples.\n",
    "- We train de model (AI) using training data (we have all the features and all the labels).\n",
    "- When we are going to test or use the model we only pass our features.\n",
    "> NEXT.. different Types of ML ¿?"
   ]
  },
  {
   "attachments": {},
   "cell_type": "markdown",
   "metadata": {},
   "source": [
    "## Tensors\n",
    "Tensors are multi-dimensional arrays with a uniform type (called a dtype). You can see all supported dtypes at tf.dtypes.DType.    \n",
    "If you're familiar with NumPy, tensors are (kind of) like np.arrays.    \n",
    "All tensors are immutable like Python numbers and strings: you can never update the contents of a tensor, only create a new one.    \n"
   ]
  },
  {
   "cell_type": "code",
   "execution_count": 1,
   "metadata": {},
   "outputs": [
    {
     "data": {
      "text/plain": [
       "'2.12.0'"
      ]
     },
     "execution_count": 1,
     "metadata": {},
     "output_type": "execute_result"
    }
   ],
   "source": [
    "import tensorflow as tf\n",
    "tf.__version__"
   ]
  },
  {
   "cell_type": "code",
   "execution_count": 2,
   "metadata": {},
   "outputs": [
    {
     "data": {
      "text/plain": [
       "(TensorShape([]),\n",
       " <tf.Variable 'Variable:0' shape=() dtype=int32, numpy=747>,\n",
       " TensorShape([]))"
      ]
     },
     "execution_count": 2,
     "metadata": {},
     "output_type": "execute_result"
    }
   ],
   "source": [
    "string = tf.Variable('this is a string', tf.string)\n",
    "number = tf.Variable(747, tf.int16)\n",
    "floating = tf.Variable(3.1416, tf.float64)\n",
    "\n",
    "string.shape, number, floating.shape"
   ]
  },
  {
   "attachments": {},
   "cell_type": "markdown",
   "metadata": {},
   "source": [
    "### Rank/Degree of Tensors\n",
    "The number of dimensions involved in the tensor. Above tensors rank=0 , scalars..."
   ]
  },
  {
   "cell_type": "code",
   "execution_count": 3,
   "metadata": {},
   "outputs": [
    {
     "data": {
      "text/plain": [
       "(TensorShape([2]),\n",
       " TensorShape([2, 2]),\n",
       " <tf.Variable 'Variable:0' shape=(2,) dtype=string, numpy=array([b'trin1', b'trin2'], dtype=object)>,\n",
       " <tf.Variable 'Variable:0' shape=(2, 2) dtype=int32, numpy=\n",
       " array([[1, 2],\n",
       "        [3, 4]])>)"
      ]
     },
     "execution_count": 3,
     "metadata": {},
     "output_type": "execute_result"
    }
   ],
   "source": [
    "rank1_tf = tf.Variable(['trin1', 'trin2'], tf.string)\n",
    "rank2_tf = tf.Variable([[1, 2], [3, 4]], tf.int8)\n",
    "\n",
    "rank1_tf.shape, rank2_tf.shape, rank1_tf, rank2_tf"
   ]
  },
  {
   "cell_type": "code",
   "execution_count": 4,
   "metadata": {},
   "outputs": [
    {
     "data": {
      "text/plain": [
       "(<tf.Tensor: shape=(), dtype=int32, numpy=1>,\n",
       " <tf.Tensor: shape=(), dtype=int32, numpy=2>)"
      ]
     },
     "execution_count": 4,
     "metadata": {},
     "output_type": "execute_result"
    }
   ],
   "source": [
    "tf.rank(rank1_tf), tf.rank(rank2_tf)"
   ]
  },
  {
   "attachments": {},
   "cell_type": "markdown",
   "metadata": {},
   "source": [
    "### Shape & reshape"
   ]
  },
  {
   "cell_type": "code",
   "execution_count": 5,
   "metadata": {},
   "outputs": [
    {
     "data": {
      "text/plain": [
       "(<tf.Tensor: shape=(1, 2, 3), dtype=float32, numpy=\n",
       " array([[[1., 1., 1.],\n",
       "         [1., 1., 1.]]], dtype=float32)>,\n",
       " <tf.Variable 'Variable:0' shape=(2, 2) dtype=int32, numpy=\n",
       " array([[1, 1],\n",
       "        [1, 1]])>,\n",
       " <tf.Variable 'Variable:0' shape=(1, 2, 3) dtype=int32, numpy=\n",
       " array([[[5, 5, 5],\n",
       "         [5, 5, 5]]])>,\n",
       " <tf.Tensor: shape=(2, 2), dtype=float32, numpy=\n",
       " array([[0., 0.],\n",
       "        [0., 0.]], dtype=float32)>)"
      ]
     },
     "execution_count": 5,
     "metadata": {},
     "output_type": "execute_result"
    }
   ],
   "source": [
    "t1_123 = tf.ones([1, 2, 3])     # [1, 2, 3] -> shape\n",
    "t1_22 = tf.Variable([[1, 1], [1, 1]], tf.float32)\n",
    "t5_123 = tf.Variable([[[5, 5, 5], [5, 5, 5]]])\n",
    "t0_22 = tf.zeros([2, 2])\n",
    "\n",
    "t1_123, t1_22, t5_123, t0_22"
   ]
  },
  {
   "cell_type": "code",
   "execution_count": 6,
   "metadata": {},
   "outputs": [
    {
     "data": {
      "text/plain": [
       "(<tf.Tensor: shape=(2, 3, 1), dtype=float32, numpy=\n",
       " array([[[1.],\n",
       "         [1.],\n",
       "         [1.]],\n",
       " \n",
       "        [[1.],\n",
       "         [1.],\n",
       "         [1.]]], dtype=float32)>,\n",
       " <tf.Tensor: shape=(3, 2), dtype=float32, numpy=\n",
       " array([[1., 1.],\n",
       "        [1., 1.],\n",
       "        [1., 1.]], dtype=float32)>,\n",
       " <tf.Tensor: shape=(3, 2), dtype=float32, numpy=\n",
       " array([[1., 1.],\n",
       "        [1., 1.],\n",
       "        [1., 1.]], dtype=float32)>)"
      ]
     },
     "execution_count": 6,
     "metadata": {},
     "output_type": "execute_result"
    }
   ],
   "source": [
    "t1_231 = tf.reshape(t1_123, [2, 3, 1])\n",
    "t1_3_ = tf.reshape(t1_123, [3, -1])\n",
    "t1_3b = tf.reshape(t1_231, [3, -1])\n",
    "\n",
    "t1_231, t1_3_, t1_3b"
   ]
  },
  {
   "attachments": {},
   "cell_type": "markdown",
   "metadata": {},
   "source": [
    "### Types of Tensors\n",
    "- Variable: the only mutable\n",
    "- Constant:\n",
    "- Placeholder\n",
    "- SparseTensor:"
   ]
  },
  {
   "attachments": {},
   "cell_type": "markdown",
   "metadata": {},
   "source": [
    "### Evaluation Tensosrs -> geting its value.\n",
    "Tensors represents a partially complete computation -> we need to run whats call a session.\n",
    "> tf.Session are gon in Tensor"
   ]
  },
  {
   "cell_type": "code",
   "execution_count": 7,
   "metadata": {},
   "outputs": [],
   "source": [
    "# tf.compat.v1.disable_eager_execution()\n",
    "# with tf.compat.v1.Session() as sess:\n",
    "#     print(t1_123.eval())"
   ]
  },
  {
   "cell_type": "code",
   "execution_count": 8,
   "metadata": {},
   "outputs": [],
   "source": [
    "# with tf.compat.v1.Session() as sess:\n",
    "#     print(sess.run(t1_123))"
   ]
  },
  {
   "attachments": {},
   "cell_type": "markdown",
   "metadata": {},
   "source": [
    "### Reshape exercises with:\n",
    "tf.zeros([5, 5, 5, 5]) - 5, 25, 125, 625"
   ]
  },
  {
   "cell_type": "code",
   "execution_count": null,
   "metadata": {},
   "outputs": [],
   "source": []
  }
 ],
 "metadata": {
  "kernelspec": {
   "display_name": "Python 3",
   "language": "python",
   "name": "python3"
  },
  "language_info": {
   "codemirror_mode": {
    "name": "ipython",
    "version": 3
   },
   "file_extension": ".py",
   "mimetype": "text/x-python",
   "name": "python",
   "nbconvert_exporter": "python",
   "pygments_lexer": "ipython3",
   "version": "3.11.0"
  },
  "orig_nbformat": 4
 },
 "nbformat": 4,
 "nbformat_minor": 2
}

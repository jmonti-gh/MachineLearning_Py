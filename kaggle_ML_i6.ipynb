{
 "cells": [
  {
   "attachments": {},
   "cell_type": "markdown",
   "metadata": {},
   "source": [
    "# kaggle - Learn: Intermediate Machine Learning\n",
    "- https://www.kaggle.com/learn/intermediate-machine-learning\n",
    "> JM-Future: mk a program to obtain a mini dataset from a big dataset\n",
    "mantaining cols names and a prportional number of NaN in every col?, ex. to conver melb_data to min_melb_data, three versions or put the % of shrink"
   ]
  },
  {
   "attachments": {},
   "cell_type": "markdown",
   "metadata": {},
   "source": [
    "## 6.- XGBoost\n",
    "- The most accurate modeling technique for structured data.\n",
    "- Optimize models with __gradient boosting__, state-of-the-art results on a vaiety of datasets.\n",
    "\n",
    "### Intro (ML is an iterative process)\n",
    "- Random Forest is an __ensemble method__ cause combine predictions of several modls, in this case several trees."
   ]
  },
  {
   "attachments": {},
   "cell_type": "markdown",
   "metadata": {},
   "source": [
    "## Gradient Boosting (another ensemble method)\n",
    "- Is a method tha goes through cycles to iteratively add models into an ensemble.\n",
    "- The cycle: naive model (the start) -> mk predictions -> calc loss -> train new model (use loss funct. to fit new mod. -use gradient descent on the los funct. to determine the params. in this new model). -> add new model to the ensemble and -> again mk predics...\n"
   ]
  },
  {
   "attachments": {},
   "cell_type": "markdown",
   "metadata": {},
   "source": [
    "### Example"
   ]
  },
  {
   "cell_type": "markdown",
   "metadata": {},
   "source": []
  }
 ],
 "metadata": {
  "kernelspec": {
   "display_name": "Python 3",
   "language": "python",
   "name": "python3"
  },
  "language_info": {
   "codemirror_mode": {
    "name": "ipython",
    "version": 3
   },
   "file_extension": ".py",
   "mimetype": "text/x-python",
   "name": "python",
   "nbconvert_exporter": "python",
   "pygments_lexer": "ipython3",
   "version": "3.11.0"
  },
  "orig_nbformat": 4
 },
 "nbformat": 4,
 "nbformat_minor": 2
}

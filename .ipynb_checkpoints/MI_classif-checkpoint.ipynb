{
 "cells": [
  {
   "cell_type": "markdown",
   "id": "7ea8d697-b598-4873-9405-8dfdbaf36e14",
   "metadata": {},
   "source": [
    "# MI: Mutual Information\n",
    "# Feature Selection\n",
    "- Based on Mutual Information Gain for Classification and Regression\n",
    "- https://guhanesvar.medium.com/feature-selection-based-on-mutual-information-gain-for-classification-and-regression-d0f86ea5262a"
   ]
  },
  {
   "cell_type": "markdown",
   "id": "ce404cd7-e741-4b8a-930a-2568ed99e0aa",
   "metadata": {},
   "source": [
    "## Mutual Information Classification\n",
    "- sklearn.feature_selection.__mutual_info_classif__"
   ]
  },
  {
   "cell_type": "code",
   "execution_count": 17,
   "id": "d0b47196-3230-43ee-a5be-3cee6097177b",
   "metadata": {},
   "outputs": [],
   "source": [
    "import requests, io\n",
    "import zipfile as zfm\n",
    "import pandas as pd"
   ]
  },
  {
   "cell_type": "code",
   "execution_count": 18,
   "id": "3dbb90ab-5b86-4c22-869a-1e814ddaf7e5",
   "metadata": {},
   "outputs": [
    {
     "name": "stdout",
     "output_type": "stream",
     "text": [
      "['wine.csv', 'wine_info.txt']\n",
      "(178, 14)\n"
     ]
    },
    {
     "data": {
      "text/html": [
       "<div>\n",
       "<style scoped>\n",
       "    .dataframe tbody tr th:only-of-type {\n",
       "        vertical-align: middle;\n",
       "    }\n",
       "\n",
       "    .dataframe tbody tr th {\n",
       "        vertical-align: top;\n",
       "    }\n",
       "\n",
       "    .dataframe thead th {\n",
       "        text-align: right;\n",
       "    }\n",
       "</style>\n",
       "<table border=\"1\" class=\"dataframe\">\n",
       "  <thead>\n",
       "    <tr style=\"text-align: right;\">\n",
       "      <th></th>\n",
       "      <th>Wine</th>\n",
       "      <th>Alcohol</th>\n",
       "      <th>Malic.acid</th>\n",
       "      <th>Ash</th>\n",
       "      <th>Acl</th>\n",
       "      <th>Mg</th>\n",
       "      <th>Phenols</th>\n",
       "      <th>Flavanoids</th>\n",
       "      <th>Nonflavanoid.phenols</th>\n",
       "      <th>Proanth</th>\n",
       "      <th>Color.int</th>\n",
       "      <th>Hue</th>\n",
       "      <th>OD</th>\n",
       "      <th>Proline</th>\n",
       "    </tr>\n",
       "  </thead>\n",
       "  <tbody>\n",
       "    <tr>\n",
       "      <th>0</th>\n",
       "      <td>1</td>\n",
       "      <td>14.23</td>\n",
       "      <td>1.71</td>\n",
       "      <td>2.43</td>\n",
       "      <td>15.6</td>\n",
       "      <td>127</td>\n",
       "      <td>2.80</td>\n",
       "      <td>3.06</td>\n",
       "      <td>0.28</td>\n",
       "      <td>2.29</td>\n",
       "      <td>5.64</td>\n",
       "      <td>1.04</td>\n",
       "      <td>3.92</td>\n",
       "      <td>1065</td>\n",
       "    </tr>\n",
       "    <tr>\n",
       "      <th>9</th>\n",
       "      <td>1</td>\n",
       "      <td>13.86</td>\n",
       "      <td>1.35</td>\n",
       "      <td>2.27</td>\n",
       "      <td>16.0</td>\n",
       "      <td>98</td>\n",
       "      <td>2.98</td>\n",
       "      <td>3.15</td>\n",
       "      <td>0.22</td>\n",
       "      <td>1.85</td>\n",
       "      <td>7.22</td>\n",
       "      <td>1.01</td>\n",
       "      <td>3.55</td>\n",
       "      <td>1045</td>\n",
       "    </tr>\n",
       "    <tr>\n",
       "      <th>169</th>\n",
       "      <td>3</td>\n",
       "      <td>13.40</td>\n",
       "      <td>4.60</td>\n",
       "      <td>2.86</td>\n",
       "      <td>25.0</td>\n",
       "      <td>112</td>\n",
       "      <td>1.98</td>\n",
       "      <td>0.96</td>\n",
       "      <td>0.27</td>\n",
       "      <td>1.11</td>\n",
       "      <td>8.50</td>\n",
       "      <td>0.67</td>\n",
       "      <td>1.92</td>\n",
       "      <td>630</td>\n",
       "    </tr>\n",
       "    <tr>\n",
       "      <th>177</th>\n",
       "      <td>3</td>\n",
       "      <td>14.13</td>\n",
       "      <td>4.10</td>\n",
       "      <td>2.74</td>\n",
       "      <td>24.5</td>\n",
       "      <td>96</td>\n",
       "      <td>2.05</td>\n",
       "      <td>0.76</td>\n",
       "      <td>0.56</td>\n",
       "      <td>1.35</td>\n",
       "      <td>9.20</td>\n",
       "      <td>0.61</td>\n",
       "      <td>1.60</td>\n",
       "      <td>560</td>\n",
       "    </tr>\n",
       "  </tbody>\n",
       "</table>\n",
       "</div>"
      ],
      "text/plain": [
       "     Wine  Alcohol  Malic.acid   Ash   Acl   Mg  Phenols  Flavanoids  \\\n",
       "0       1    14.23        1.71  2.43  15.6  127     2.80        3.06   \n",
       "9       1    13.86        1.35  2.27  16.0   98     2.98        3.15   \n",
       "169     3    13.40        4.60  2.86  25.0  112     1.98        0.96   \n",
       "177     3    14.13        4.10  2.74  24.5   96     2.05        0.76   \n",
       "\n",
       "     Nonflavanoid.phenols  Proanth  Color.int   Hue    OD  Proline  \n",
       "0                    0.28     2.29       5.64  1.04  3.92     1065  \n",
       "9                    0.22     1.85       7.22  1.01  3.55     1045  \n",
       "169                  0.27     1.11       8.50  0.67  1.92      630  \n",
       "177                  0.56     1.35       9.20  0.61  1.60      560  "
      ]
     },
     "execution_count": 18,
     "metadata": {},
     "output_type": "execute_result"
    }
   ],
   "source": [
    "ro = 'jmonti-gh'                  # repo_owner\n",
    "rn = 'Datasets'                   # repo_name\n",
    "zipfln = 'wine.zip'\n",
    "dataset = 'wine.csv'\n",
    "\n",
    "url = f'https://raw.githubusercontent.com/{ro}/{rn}/main/{zipfln}'\n",
    "\n",
    "r = requests.get(url)\n",
    "\n",
    "with zfm.ZipFile(io.BytesIO(r.content)) as zf:\n",
    "    print(zf.namelist())\n",
    "    df = pd.read_csv(zf.open(dataset))\n",
    "\n",
    "print(df.shape)\n",
    "df.iloc[[0, 9, -9, -1]]"
   ]
  },
  {
   "cell_type": "code",
   "execution_count": 19,
   "id": "ad042463-70b9-42e6-9743-9b94586f1fb9",
   "metadata": {},
   "outputs": [],
   "source": [
    "# fn = 'c:/users/jm/downloads/wine1.csv'\n",
    "# df1 = pd.read_csv(fn, header=None, names=df.columns)"
   ]
  },
  {
   "cell_type": "markdown",
   "id": "11258065-6d2d-4380-b8bc-55c434fe3269",
   "metadata": {},
   "source": [
    "wine dataset contains 14 columns from which we are going to select the top 5 features"
   ]
  },
  {
   "cell_type": "code",
   "execution_count": 35,
   "id": "440e698f-e313-4374-823a-0e4426ede380",
   "metadata": {},
   "outputs": [],
   "source": [
    "### Sep. Predictors & Target + Div. Train & Test sets of data\n",
    "\n",
    "X = df.drop(labels=['Wine'], axis=1)\n",
    "# X = df.drop(columns='Wine')\n",
    "# X = df.drop('Wine', axis=1)\n",
    "y = df['Wine']\n",
    "# y = df.loc[:,'Wine']\n",
    "# y = df.iloc[:,0]\n",
    "\n",
    "from sklearn.model_selection import train_test_split\n",
    "X_train, X_test, y_train, y_test = train_test_split(X, y, random_state=0,\n",
    "                                                   test_size=0.3,)"
   ]
  },
  {
   "cell_type": "code",
   "execution_count": 36,
   "id": "02ed2c03-7a16-4468-b279-dd3969f4e7d9",
   "metadata": {},
   "outputs": [
    {
     "data": {
      "text/plain": [
       "array([0.4236565 , 0.30183231, 0.14729216, 0.26320031, 0.19739242,\n",
       "       0.48245187, 0.72054823, 0.14032447, 0.26754851, 0.61617501,\n",
       "       0.52968828, 0.55975633, 0.53080015])"
      ]
     },
     "execution_count": 36,
     "metadata": {},
     "output_type": "execute_result"
    }
   ],
   "source": [
    "### MI Classification - w/training data\n",
    "from sklearn.feature_selection import mutual_info_classif\n",
    "mutual_info = mutual_info_classif(X_train, y_train)\n",
    "mutual_info"
   ]
  },
  {
   "cell_type": "code",
   "execution_count": 39,
   "id": "1ab58bcb-8879-4135-bd31-764202b05514",
   "metadata": {},
   "outputs": [
    {
     "data": {
      "text/plain": [
       "Flavanoids              0.720548\n",
       "Color.int               0.616175\n",
       "OD                      0.559756\n",
       "Proline                 0.530800\n",
       "Hue                     0.529688\n",
       "Phenols                 0.482452\n",
       "Alcohol                 0.423656\n",
       "Malic.acid              0.301832\n",
       "Proanth                 0.267549\n",
       "Acl                     0.263200\n",
       "Mg                      0.197392\n",
       "Ash                     0.147292\n",
       "Nonflavanoid.phenols    0.140324\n",
       "dtype: float64"
      ]
     },
     "execution_count": 39,
     "metadata": {},
     "output_type": "execute_result"
    }
   ],
   "source": [
    "### MI Classif. Serie orderer\n",
    "mutual_info = pd.Series(mutual_info)\n",
    "mutual_info.index = X_train.columns\n",
    "mutual_info.sort_values(ascending=False)"
   ]
  },
  {
   "cell_type": "code",
   "execution_count": 42,
   "id": "b6c71c6d-f8dd-4e7d-b6ce-4c9eda26bd14",
   "metadata": {},
   "outputs": [
    {
     "data": {
      "text/plain": [
       "<Axes: >"
      ]
     },
     "execution_count": 42,
     "metadata": {},
     "output_type": "execute_result"
    },
    {
     "data": {
      "image/png": "[encoded data removed]",
      "text/plain": [
       "<Figure size 2000x800 with 1 Axes>"
      ]
     },
     "metadata": {},
     "output_type": "display_data"
    }
   ],
   "source": [
    "mutual_info.sort_values(ascending=False).plot.bar(figsize=(20, 8))"
   ]
  },
  {
   "cell_type": "code",
   "execution_count": null,
   "id": "87a029f6-6ccf-4026-bdad-8110b2d94eb0",
   "metadata": {},
   "outputs": [],
   "source": [
    "import seaborn as sns"
   ]
  },
  {
   "cell_type": "code",
   "execution_count": 40,
   "id": "122bed3b-231c-4a2b-b776-f069ee31586a",
   "metadata": {},
   "outputs": [
    {
     "data": {
      "text/plain": [
       "array([0.46686313, 0.27737675, 0.05031212, 0.22584073, 0.19162539,\n",
       "       0.40150958, 0.66592094, 0.12444959, 0.28455507, 0.55670644,\n",
       "       0.43240666, 0.51533468, 0.56042793])"
      ]
     },
     "execution_count": 40,
     "metadata": {},
     "output_type": "execute_result"
    }
   ],
   "source": [
    "### MI Classification - w/full data\n",
    "mi_full = mutual_info_classif(X, y)\n",
    "mi_full"
   ]
  },
  {
   "cell_type": "code",
   "execution_count": 41,
   "id": "48301a1d-a5ce-4e52-8b8f-29687c86a84e",
   "metadata": {},
   "outputs": [
    {
     "data": {
      "text/plain": [
       "Flavanoids              0.665921\n",
       "Proline                 0.560428\n",
       "Color.int               0.556706\n",
       "OD                      0.515335\n",
       "Alcohol                 0.466863\n",
       "Hue                     0.432407\n",
       "Phenols                 0.401510\n",
       "Proanth                 0.284555\n",
       "Malic.acid              0.277377\n",
       "Acl                     0.225841\n",
       "Mg                      0.191625\n",
       "Nonflavanoid.phenols    0.124450\n",
       "Ash                     0.050312\n",
       "dtype: float64"
      ]
     },
     "execution_count": 41,
     "metadata": {},
     "output_type": "execute_result"
    }
   ],
   "source": [
    "### MI Classif. Serie orderer\n",
    "mi_full = pd.Series(mi_full)\n",
    "mi_full.index = X_train.columns\n",
    "mi_full.sort_values(ascending=False)"
   ]
  },
  {
   "cell_type": "code",
   "execution_count": null,
   "id": "371ab660-f216-41cd-9f87-5484cd565c83",
   "metadata": {},
   "outputs": [],
   "source": []
  },
  {
   "cell_type": "code",
   "execution_count": null,
   "id": "46b171e6-f2a4-428c-9de5-b360b969c2ec",
   "metadata": {},
   "outputs": [],
   "source": []
  },
  {
   "cell_type": "code",
   "execution_count": null,
   "id": "d655bdf5-3c01-4d30-aa09-02849f0da9ed",
   "metadata": {},
   "outputs": [],
   "source": [
    "# https://guhanesvar.medium.com/feature-selection-based-on-mutual-information-gain-for-classification-and-regression-d0f86ea5262a\n",
    "# https://stats.stackexchange.com/questions/598768/scikit-learn-mutual-info-regression\n",
    "# https://www.rasgoml.com/feature-engineering-tutorials/feature-selection-using-mutual-information-in-scikit-learn"
   ]
  }
 ],
 "metadata": {
  "kernelspec": {
   "display_name": "Python 3 (ipykernel)",
   "language": "python",
   "name": "python3"
  },
  "language_info": {
   "codemirror_mode": {
    "name": "ipython",
    "version": 3
   },
   "file_extension": ".py",
   "mimetype": "text/x-python",
   "name": "python",
   "nbconvert_exporter": "python",
   "pygments_lexer": "ipython3",
   "version": "3.11.3"
  }
 },
 "nbformat": 4,
 "nbformat_minor": 5
}

{
 "cells": [
  {
   "attachments": {},
   "cell_type": "markdown",
   "metadata": {},
   "source": [
    "# kaggle - Learn: Intro to Machine Learning\n",
    "- https://www.kaggle.com/learn/intro-to-machine-learning\n",
    "## 7. Machine Learning Competitions\n",
    "1. rf_m0: Base RadomForest Model\n",
    "2. rf_m1: rf_Improved #1 - Maximun Features\n",
    "3. rf_m2: rf_Improved #2 - Max. Features + Tune Parameters\n",
    "4. dt_m0: Base DecisionTree Model\n",
    "5. dt_m1: dt_Improved #1 - Maximun Features\n",
    "6. dt_m2: dt_Improved #2 - Max. Features + Tune Parameters"
   ]
  },
  {
   "attachments": {},
   "cell_type": "markdown",
   "metadata": {},
   "source": [
    "## Housing Prices Competition for Kaggle Learn Users\n",
    "- In this exercise, you will create and submit predictions for a Kaggle competition. You can then improve your model (e.g. by adding features) to apply what you've learned and move up the leaderboard."
   ]
  },
  {
   "attachments": {},
   "cell_type": "markdown",
   "metadata": {},
   "source": [
    "### 0.- Obtain data that will be the same for all cases (1. - 6.)"
   ]
  },
  {
   "cell_type": "code",
   "execution_count": 18,
   "metadata": {},
   "outputs": [],
   "source": [
    "# Import necessary libraries\n",
    "import pandas as pd\n",
    "from sklearn.ensemble import RandomForestRegressor\n",
    "from sklearn.tree import DecisionTreeRegressor\n",
    "from sklearn.model_selection import train_test_split\n",
    "from sklearn.metrics import mean_absolute_error"
   ]
  },
  {
   "cell_type": "code",
   "execution_count": 19,
   "metadata": {},
   "outputs": [],
   "source": [
    "# Load data (train.csv) and separate target 'y' - features will be separated later for e/case\n",
    "df = pd.read_csv('train.csv')\n",
    "y = df.SalePrice"
   ]
  },
  {
   "attachments": {},
   "cell_type": "markdown",
   "metadata": {},
   "source": [
    "### 1. rf_m0: Base RadomForest Model + \n",
    "### 4. dt_m0: Base DecisionTree Model\n",
    "- They use the same features cols (basics from the lecture)"
   ]
  },
  {
   "cell_type": "code",
   "execution_count": 20,
   "metadata": {},
   "outputs": [
    {
     "name": "stdout",
     "output_type": "stream",
     "text": [
      "Validation MAE for Basic Random Forest model: 20,354\n",
      "Validation MAE for Basic Decision Tree model: 28,717\n"
     ]
    }
   ],
   "source": [
    "# Separate basic features 'X' (same for 1. and 4.)\n",
    "features = ['LotArea', 'YearBuilt', '1stFlrSF', '2ndFlrSF', 'FullBath',\n",
    "            'BedroomAbvGr', 'TotRmsAbvGrd']\n",
    "X = df[features]\n",
    "\n",
    "# Split into training and validation (test) data (same for 1. and 4.)\n",
    "train_X, val_X, train_y, val_y = train_test_split(X, y, random_state=18)\n",
    "# random state could have different wight in dt than in rf (18, 42, 238, 777)\n",
    "\n",
    "# Define 1. Basic Random Forest model + fit with training data + mk _predict + calc mae\n",
    "rf_m0 = RandomForestRegressor(random_state=18)\n",
    "rf_m0.fit(train_X, train_y)\n",
    "rf_m0_pred = rf_m0.predict(val_X)\n",
    "rf_m0_mae = mean_absolute_error(val_y, rf_m0_pred)\n",
    "print(f'Validation MAE for Basic Random Forest model: {rf_m0_mae:,.0f}')\n",
    "\n",
    "# Define 4. Basic Decision Terr model + fit with training data + mk val_predicted + calc mae\n",
    "dt_m0 = DecisionTreeRegressor(random_state=18)\n",
    "dt_m0.fit(train_X, train_y)\n",
    "dt_m0_pred = dt_m0.predict(val_X)\n",
    "dt_m0_mae = mean_absolute_error(val_y, dt_m0_pred)\n",
    "print(f'Validation MAE for Basic Decision Tree model: {dt_m0_mae:,.0f}')"
   ]
  },
  {
   "attachments": {},
   "cell_type": "markdown",
   "metadata": {},
   "source": [
    "### 2. rf_m1: rf_Improved #1 - Maximun Features\n",
    "### 5. dt_m1: dt_Improved #1 - Maximun Features\n",
    "- They use the same features cols (max. possible -FULL- from the lecture)"
   ]
  },
  {
   "cell_type": "code",
   "execution_count": 21,
   "metadata": {},
   "outputs": [
    {
     "name": "stdout",
     "output_type": "stream",
     "text": [
      "Validation MAE for Imp#1 Random Forest model: 17,508\n",
      "Validation MAE for Imp#1 Decision Tree model: 26,776\n"
     ]
    }
   ],
   "source": [
    "fF_tring= '''MSSubClass,LotArea,OverallQual,OverallCond,YearBuilt,YearRemodAdd,1stFlrSF,2ndFlrSF,LowQualFinSF,\\\n",
    "GrLivArea,FullBath,HalfBath,BedroomAbvGr,KitchenAbvGr,TotRmsAbvGrd,Fireplaces,WoodDeckSF,OpenPorchSF,\\\n",
    "EnclosedPorch,3SsnPorch,ScreenPorch,PoolArea,MiscVal,MoSold,YrSold'''\n",
    "featuresF = fF_tring.split(',')\n",
    "XF = df[featuresF]\n",
    "rs = 18                # to probe diff random_state\n",
    "# Split into training and validation (test) data\n",
    "train_XF, val_XF, train_yF, val_yF = train_test_split(XF, y, random_state=rs)\n",
    "\n",
    "# Define 2. Imp#1 Random Forest model + fit with training data + mk _predict + calc mae\n",
    "rf_m1 = RandomForestRegressor(random_state=rs)\n",
    "rf_m1.fit(train_XF, train_yF)\n",
    "rf_m1_pred = rf_m1.predict(val_XF)\n",
    "rf_m1_mae = mean_absolute_error(val_yF, rf_m1_pred)\n",
    "print(f'Validation MAE for Imp#1 Random Forest model: {rf_m1_mae:,.0f}')\n",
    "\n",
    "# Define 5. Imp#2 Decision Terr model + fit with training data + mk val_predicted + calc mae\n",
    "dt_m1 = DecisionTreeRegressor(random_state=rs)\n",
    "dt_m1.fit(train_XF, train_yF)\n",
    "dt_m1_pred = dt_m1.predict(val_XF)\n",
    "dt_m1_mae = mean_absolute_error(val_yF, dt_m1_pred)\n",
    "print(f'Validation MAE for Imp#1 Decision Tree model: {dt_m1_mae:,.0f}')\n",
    "\n",
    "## CAUTION 'overfitting for too much (maybe spurious features) -select best with AI?"
   ]
  },
  {
   "attachments": {},
   "cell_type": "markdown",
   "metadata": {},
   "source": [
    "### 3. rf_m2: rf_Improved #2 - Max. Features + Tune Parameters\n",
    "- Use XF and train_XF, val_XF, train_yF, val_yF that already exists\n",
    "- Same as rf_m1 but rf_m2 with different parameters values"
   ]
  },
  {
   "cell_type": "code",
   "execution_count": 22,
   "metadata": {},
   "outputs": [
    {
     "name": "stdout",
     "output_type": "stream",
     "text": [
      "Validation MAE for Imp#2 Random Forest model: 16,270\n"
     ]
    }
   ],
   "source": [
    "# Define 3. Imp#2 Random Forest model + fit with training data + mk _predict + calc mae\n",
    "#rf_m2 = RandomForestRegressor(random_state=rs, max_features=6, n_estimators=135)\n",
    "rf_m2 = RandomForestRegressor(n_estimators=135, max_features=6, random_state=rs)\n",
    "rf_m2.fit(train_XF, train_yF)\n",
    "rf_m2_pred = rf_m2.predict(val_XF)\n",
    "rf_m2_mae = mean_absolute_error(val_yF, rf_m2_pred)\n",
    "print(f'Validation MAE for Imp#2 Random Forest model: {rf_m2_mae:,.0f}')"
   ]
  },
  {
   "cell_type": "code",
   "execution_count": 23,
   "metadata": {},
   "outputs": [
    {
     "name": "stdout",
     "output_type": "stream",
     "text": [
      "k_min: 135  -  MAEmin: 16,270.14\n",
      "k_mxn: 138  -  MAEmax: 16,321.09\n"
     ]
    }
   ],
   "source": [
    "# Best n_estimators\n",
    "def get_rfm2_mae(ne, tX, ty, vX, vy):\n",
    "    rf_m2 = RandomForestRegressor(n_estimators=ne, random_state=rs, max_features=6)\n",
    "    rf_m2.fit(tX, ty)\n",
    "    rf_m2_pred = rf_m2.predict(vX)\n",
    "    rf_m2_mae = mean_absolute_error(vy, rf_m2_pred)\n",
    "    return rf_m2_mae\n",
    "\n",
    "rfm2_d = dict()\n",
    "for ne in range(130, 140):          # probed form (2, 300)\n",
    "    rfm2_d[ne] = get_rfm2_mae(ne, train_XF, train_yF, val_XF, val_yF)\n",
    "\n",
    "#print(rfm2_d, type(rfm2_d))\n",
    "\n",
    "mxmae = max(rfm2_d.values())\n",
    "mimae = min(rfm2_d.values())\n",
    "\n",
    "for k in rfm2_d:\n",
    "    if rfm2_d[k] == mimae:\n",
    "        kmin = k\n",
    "    if rfm2_d[k] == mxmae:\n",
    "        kmax = k\n",
    "\n",
    "\n",
    "print(f'k_min: {kmin}  -  MAEmin: {mimae:,.2f}')\n",
    "print(f'k_mxn: {kmax}  -  MAEmax: {mxmae:,.2f}')\n",
    "\n",
    "# k_min: 135  -  MAEmin: 16,270.14\n",
    "# k_mxn: 34  -  MAEmax: 17,208.54"
   ]
  },
  {
   "cell_type": "code",
   "execution_count": 24,
   "metadata": {},
   "outputs": [
    {
     "name": "stdout",
     "output_type": "stream",
     "text": [
      "max_features _min: 0.3  -  MAEmin: 16,427.99\n",
      "max_features _max: 1.0  -  MAEmax: 17,528.56\n"
     ]
    }
   ],
   "source": [
    "# Best max_features\n",
    "def get_rfm2_mae(mf, tX, ty, vX, vy):\n",
    "    rf_m2 = RandomForestRegressor(n_estimators=135, random_state=rs, max_features=mf)\n",
    "    rf_m2.fit(tX, ty)\n",
    "    rf_m2_pred = rf_m2.predict(vX)\n",
    "    rf_m2_mae = mean_absolute_error(vy, rf_m2_pred)\n",
    "    return rf_m2_mae\n",
    "\n",
    "rfm2_d = dict()\n",
    "for n in range(1, 11):          # probed form (2, 300)\n",
    "    mf = n/10\n",
    "    rfm2_d[mf] = get_rfm2_mae(mf, train_XF, train_yF, val_XF, val_yF)\n",
    "\n",
    "#print(rfm2_d, type(rfm2_d))\n",
    "\n",
    "mxmae = max(rfm2_d.values())\n",
    "mimae = min(rfm2_d.values())\n",
    "\n",
    "for k in rfm2_d:\n",
    "    if rfm2_d[k] == mimae:\n",
    "        kmin = k\n",
    "    if rfm2_d[k] == mxmae:\n",
    "        kmax = k\n",
    "\n",
    "\n",
    "print(f'max_features _min: {kmin}  -  MAEmin: {mimae:,.2f}')\n",
    "print(f'max_features _max: {kmax}  -  MAEmax: {mxmae:,.2f}')\n",
    "\n",
    "# max_features _min: 6  -  MAEmin: 16,270.14\n",
    "# max_features _max: 1  -  MAEmax: 19,040.38"
   ]
  },
  {
   "attachments": {},
   "cell_type": "markdown",
   "metadata": {},
   "source": [
    "> Random Forest Model - Conclusion:\n",
    "- Case: train_XF, val_XF, train_yF, val_yF = train_test_split(XF, y, random_state=18)\n",
    "- Best: RandomForestRegressor(n_estimators=135, random_state=18, max_features=6)\n",
    "- MAE: 16,270.14 vs 17,508 vs 20,354 (poor Best DT: 23,674.48)"
   ]
  },
  {
   "attachments": {},
   "cell_type": "markdown",
   "metadata": {},
   "source": [
    "### 6. dt_m2: dt_Improved #2 - Max. Features + Tune Parameters"
   ]
  },
  {
   "cell_type": "code",
   "execution_count": 25,
   "metadata": {},
   "outputs": [
    {
     "name": "stdout",
     "output_type": "stream",
     "text": [
      "max_leaf_nodes _min: 59  -  MAEmin: 23,674.48\n",
      "max_leaf_nodes _max: 2  -  MAEmax: 40,775.65\n"
     ]
    }
   ],
   "source": [
    "# Best max_leaf_nodes in a DecisionTree model\n",
    "def get_dtm2_mae(mln, tX, ty, vX, vy):\n",
    "    dt_m2 = DecisionTreeRegressor(max_leaf_nodes=mln, random_state=rs)\n",
    "    dt_m2.fit(tX, ty)\n",
    "    dt_m2_pred = dt_m2.predict(vX)\n",
    "    dt_m2_mae = mean_absolute_error(vy, dt_m2_pred)\n",
    "    return dt_m2_mae\n",
    "\n",
    "dtm2_d = dict()\n",
    "for mln in range(2, 300):          # probed form (2, 300)\n",
    "    dtm2_d[mln] = get_dtm2_mae(mln, train_XF, train_yF, val_XF, val_yF)\n",
    "\n",
    "#print(rfm2_d, type(rfm2_d))\n",
    "\n",
    "mxmae = max(dtm2_d.values())\n",
    "mimae = min(dtm2_d.values())\n",
    "\n",
    "for k in dtm2_d:\n",
    "    if dtm2_d[k] == mimae:\n",
    "        kmin = k\n",
    "    if dtm2_d[k] == mxmae:\n",
    "        kmax = k\n",
    "\n",
    "print(f'max_leaf_nodes _min: {kmin}  -  MAEmin: {mimae:,.2f}')\n",
    "print(f'max_leaf_nodes _max: {kmax}  -  MAEmax: {mxmae:,.2f}')\n",
    "\n",
    "# max_leaf_nodes _min: 59  -  MAEmin: 23,674.48\n",
    "# max_leaf_nodes _max: 2  -  MAEmax: 40,775.65"
   ]
  },
  {
   "attachments": {},
   "cell_type": "markdown",
   "metadata": {},
   "source": [
    "> Decision Tree Model - Conclusion:\n",
    "- Never as well as Random Forest (in this practice in any case)\n",
    "- Case :train_XF, val_XF, train_yF, val_yF = train_test_split(XF, y, random_state=18)\n",
    "- Best: DecisionTreeRegressor(max_leaf_nodes=59 random_state=18)\n",
    "- Best MAE: 23,674.48 vs 26,776 vs 28,717; BUT- best RF: 16,270.14\n"
   ]
  },
  {
   "attachments": {},
   "cell_type": "markdown",
   "metadata": {},
   "source": [
    "### MORE TO WORK to IMPROVE MODEL\n",
    "- Choose better features !! Creative features engineering !! AI?\n",
    "- Others models .. - gradient boosting is named LATER!!"
   ]
  },
  {
   "attachments": {},
   "cell_type": "markdown",
   "metadata": {},
   "source": [
    "# __________________________________________________________________________________"
   ]
  },
  {
   "attachments": {},
   "cell_type": "markdown",
   "metadata": {},
   "source": [
    "## Generate output file 'submission.csv'\n",
    "### --- with the trained model for the competition"
   ]
  },
  {
   "attachments": {},
   "cell_type": "markdown",
   "metadata": {},
   "source": [
    "### Train a model for the competition\n",
    "- The code cells above trains a Random Forest model on train_XF and train_yF.\n",
    "- Use the code cell below to build a Random Forest model and train it on all of X and y."
   ]
  },
  {
   "cell_type": "code",
   "execution_count": 26,
   "metadata": {},
   "outputs": [
    {
     "data": {
      "text/html": [
       "<style>#sk-container-id-5 {color: black;background-color: white;}#sk-container-id-5 pre{padding: 0;}#sk-container-id-5 div.sk-toggleable {background-color: white;}#sk-container-id-5 label.sk-toggleable__label {cursor: pointer;display: block;width: 100%;margin-bottom: 0;padding: 0.3em;box-sizing: border-box;text-align: center;}#sk-container-id-5 label.sk-toggleable__label-arrow:before {content: \"▸\";float: left;margin-right: 0.25em;color: #696969;}#sk-container-id-5 label.sk-toggleable__label-arrow:hover:before {color: black;}#sk-container-id-5 div.sk-estimator:hover label.sk-toggleable__label-arrow:before {color: black;}#sk-container-id-5 div.sk-toggleable__content {max-height: 0;max-width: 0;overflow: hidden;text-align: left;background-color: #f0f8ff;}#sk-container-id-5 div.sk-toggleable__content pre {margin: 0.2em;color: black;border-radius: 0.25em;background-color: #f0f8ff;}#sk-container-id-5 input.sk-toggleable__control:checked~div.sk-toggleable__content {max-height: 200px;max-width: 100%;overflow: auto;}#sk-container-id-5 input.sk-toggleable__control:checked~label.sk-toggleable__label-arrow:before {content: \"▾\";}#sk-container-id-5 div.sk-estimator input.sk-toggleable__control:checked~label.sk-toggleable__label {background-color: #d4ebff;}#sk-container-id-5 div.sk-label input.sk-toggleable__control:checked~label.sk-toggleable__label {background-color: #d4ebff;}#sk-container-id-5 input.sk-hidden--visually {border: 0;clip: rect(1px 1px 1px 1px);clip: rect(1px, 1px, 1px, 1px);height: 1px;margin: -1px;overflow: hidden;padding: 0;position: absolute;width: 1px;}#sk-container-id-5 div.sk-estimator {font-family: monospace;background-color: #f0f8ff;border: 1px dotted black;border-radius: 0.25em;box-sizing: border-box;margin-bottom: 0.5em;}#sk-container-id-5 div.sk-estimator:hover {background-color: #d4ebff;}#sk-container-id-5 div.sk-parallel-item::after {content: \"\";width: 100%;border-bottom: 1px solid gray;flex-grow: 1;}#sk-container-id-5 div.sk-label:hover label.sk-toggleable__label {background-color: #d4ebff;}#sk-container-id-5 div.sk-serial::before {content: \"\";position: absolute;border-left: 1px solid gray;box-sizing: border-box;top: 0;bottom: 0;left: 50%;z-index: 0;}#sk-container-id-5 div.sk-serial {display: flex;flex-direction: column;align-items: center;background-color: white;padding-right: 0.2em;padding-left: 0.2em;position: relative;}#sk-container-id-5 div.sk-item {position: relative;z-index: 1;}#sk-container-id-5 div.sk-parallel {display: flex;align-items: stretch;justify-content: center;background-color: white;position: relative;}#sk-container-id-5 div.sk-item::before, #sk-container-id-5 div.sk-parallel-item::before {content: \"\";position: absolute;border-left: 1px solid gray;box-sizing: border-box;top: 0;bottom: 0;left: 50%;z-index: -1;}#sk-container-id-5 div.sk-parallel-item {display: flex;flex-direction: column;z-index: 1;position: relative;background-color: white;}#sk-container-id-5 div.sk-parallel-item:first-child::after {align-self: flex-end;width: 50%;}#sk-container-id-5 div.sk-parallel-item:last-child::after {align-self: flex-start;width: 50%;}#sk-container-id-5 div.sk-parallel-item:only-child::after {width: 0;}#sk-container-id-5 div.sk-dashed-wrapped {border: 1px dashed gray;margin: 0 0.4em 0.5em 0.4em;box-sizing: border-box;padding-bottom: 0.4em;background-color: white;}#sk-container-id-5 div.sk-label label {font-family: monospace;font-weight: bold;display: inline-block;line-height: 1.2em;}#sk-container-id-5 div.sk-label-container {text-align: center;}#sk-container-id-5 div.sk-container {/* jupyter's `normalize.less` sets `[hidden] { display: none; }` but bootstrap.min.css set `[hidden] { display: none !important; }` so we also need the `!important` here to be able to override the default hidden behavior on the sphinx rendered scikit-learn.org. See: https://github.com/scikit-learn/scikit-learn/issues/21755 */display: inline-block !important;position: relative;}#sk-container-id-5 div.sk-text-repr-fallback {display: none;}</style><div id=\"sk-container-id-5\" class=\"sk-top-container\"><div class=\"sk-text-repr-fallback\"><pre>RandomForestRegressor(max_features=6, n_estimators=135, random_state=18)</pre><b>In a Jupyter environment, please rerun this cell to show the HTML representation or trust the notebook. <br />On GitHub, the HTML representation is unable to render, please try loading this page with nbviewer.org.</b></div><div class=\"sk-container\" hidden><div class=\"sk-item\"><div class=\"sk-estimator sk-toggleable\"><input class=\"sk-toggleable__control sk-hidden--visually\" id=\"sk-estimator-id-5\" type=\"checkbox\" checked><label for=\"sk-estimator-id-5\" class=\"sk-toggleable__label sk-toggleable__label-arrow\">RandomForestRegressor</label><div class=\"sk-toggleable__content\"><pre>RandomForestRegressor(max_features=6, n_estimators=135, random_state=18)</pre></div></div></div></div></div>"
      ],
      "text/plain": [
       "RandomForestRegressor(max_features=6, n_estimators=135, random_state=18)"
      ]
     },
     "execution_count": 26,
     "metadata": {},
     "output_type": "execute_result"
    }
   ],
   "source": [
    "# target and features\n",
    "ym = df.SalePrice\n",
    "\n",
    "fM_trin= '''MSSubClass,LotArea,OverallQual,OverallCond,YearBuilt,YearRemodAdd,1stFlrSF,2ndFlrSF,LowQualFinSF,\\\n",
    "GrLivArea,FullBath,HalfBath,BedroomAbvGr,KitchenAbvGr,TotRmsAbvGrd,Fireplaces,WoodDeckSF,OpenPorchSF,\\\n",
    "EnclosedPorch,3SsnPorch,ScreenPorch,PoolArea,MiscVal,MoSold,YrSold'''\n",
    "featuresM = fM_trin.split(',')\n",
    "\n",
    "XM = df[featuresM]\n",
    "\n",
    "# To improve accuracy, create a new Random Forest model which you will train on all training data\n",
    "rf_model = RandomForestRegressor(n_estimators=135, max_features=6, random_state=rs)\n",
    "\n",
    "# fit rf_model_on_full_data on all data from the training data\n",
    "rf_model.fit(XM, ym)"
   ]
  },
  {
   "cell_type": "code",
   "execution_count": 27,
   "metadata": {},
   "outputs": [],
   "source": [
    "# path to file you will use for predictions\n",
    "''' local '''\n",
    "\n",
    "# read test data file using pandas\n",
    "test_data = pd.read_csv('test.csv')\n",
    "#test_data\n",
    "\n",
    "# create test_X which comes from test_data but includes only the columns you used for prediction.\n",
    "# The list of columns is stored in a variable called features\n",
    "test_X = test_data[featuresM]\n",
    "\n",
    "# make predictions which we will submit. \n",
    "test_preds = rf_model.predict(test_X)"
   ]
  },
  {
   "cell_type": "code",
   "execution_count": 28,
   "metadata": {},
   "outputs": [],
   "source": [
    "output = pd.DataFrame({'Id': test_data.Id,\n",
    "                       'SalePrice': test_preds})\n",
    "output.to_csv('submission.csv', index=False)"
   ]
  },
  {
   "attachments": {},
   "cell_type": "markdown",
   "metadata": {},
   "source": [
    "## "
   ]
  }
 ],
 "metadata": {
  "kernelspec": {
   "display_name": "Python 3",
   "language": "python",
   "name": "python3"
  },
  "language_info": {
   "codemirror_mode": {
    "name": "ipython",
    "version": 3
   },
   "file_extension": ".py",
   "mimetype": "text/x-python",
   "name": "python",
   "nbconvert_exporter": "python",
   "pygments_lexer": "ipython3",
   "version": "3.11.0"
  },
  "orig_nbformat": 4
 },
 "nbformat": 4,
 "nbformat_minor": 2
}

{
 "cells": [
  {
   "attachments": {},
   "cell_type": "markdown",
   "metadata": {},
   "source": [
    "# kaggle - Learn: Intro to Machine Learning\n",
    "- https://www.kaggle.com/learn/intro-to-machine-learning\n",
    "## 1. How Models Work"
   ]
  },
  {
   "attachments": {},
   "cell_type": "markdown",
   "metadata": {},
   "source": [
    "### A simple model (decision tree), training, and predicting.\n",
    "- Identified Patterns: he's identified price patterns from houses he has seen in the past, and he uses those patterns to make predictions for new houses he is considering.\n",
    "- Decision tree model: easy to understand, and the basic building block for some of the best models in data science. There are fancier models that give more accurate predictions.\n",
    "- Simplest possible decision tree: it divides houses into only two categories (Does house has more than 2 bedrooms? Yes or No). The predicted price for any house under consideration is the historical average price of houses in the same category.\n",
    "- We use data to decide how to break the houses into two groups, and then again to determine the predicted price in each group.\n",
    "- his step of capturing patterns from data is called fitting or training the model.\n",
    "- The data used to fit the model is called the training data (complete data set, nothing to predict). Only fit or train at this time.\n",
    "- The details of how the model is fit (e.g. how to split up the data) is complex enough that we will save it for later.\n",
    "- Prediction: after the model has been fit, you can apply it to new data to predict prices of additional homes (by example in this case)."
   ]
  },
  {
   "attachments": {},
   "cell_type": "markdown",
   "metadata": {},
   "source": [
    "### Improving the Decision Tree.\n",
    "- The biggest shortcoming of this model is that it only consider one factor (if the house has more than 2 bedrooms), and it doesn't capture most factors affecting home price, like number of bathrooms, lot size, location, etc.\n",
    "- You can capture more factors using a tree that has more \"splits.\" These are called \"deeper\" trees. A decision tree that also considers the total size of each house's lot by example:\n",
    "    - Does house have more than 2 bedromms? Yes -> Los size larger than 11_500 square feet? Yes or No.\n",
    "    - Does house have more than 2 bedromms? No -> Los size larger than 8_500 square feet? Yes or No.\n",
    "    "
   ]
  },
  {
   "cell_type": "code",
   "execution_count": 4,
   "metadata": {},
   "outputs": [
    {
     "name": "stdout",
     "output_type": "stream",
     "text": [
      "{'name': 'h_092', '_house__brooms_num': 2, '_house__lot_size': 4400}\n",
      "\n",
      "House: h_323  - Price: 170000\n",
      "\n",
      "House: h_092  - Price: 146000\n",
      "House: h_323  - Price: 170000\n",
      "House: h_500  - Price: 233000\n"
     ]
    }
   ],
   "source": [
    "## Py conditional example - houses objects\n",
    "class house:\n",
    "    def __init__(self, name, bn, ls):\n",
    "        self.name = name\n",
    "        self.__brooms_num = bn\n",
    "        self.__lot_size = ls\n",
    "\n",
    "    def get_brooms_num(self):\n",
    "        return self.__brooms_num\n",
    "    \n",
    "    def get_lot_size(self):\n",
    "        return self.__lot_size\n",
    "    \n",
    "# A decision tree (split) function    \n",
    "def get_house_price(house):\n",
    "    if house.get_brooms_num() > 2:\n",
    "        if house.get_lot_size() > 11_500:\n",
    "            price = 233_000\n",
    "        else:\n",
    "            price = 170_000\n",
    "    else:\n",
    "        if house.get_lot_size() > 8_500:\n",
    "            price = 188_000\n",
    "        else:\n",
    "            price = 146_000\n",
    "    \n",
    "    return price\n",
    "\n",
    "h_323 = house('h_323', 4, 5_300)\n",
    "h_092 = house('h_092', 2, 4_400)\n",
    "h_500 = house('h_500', 8, 26_500)\n",
    "\n",
    "print(h_092.__dict__)\n",
    "print()\n",
    "print('House:',  h_323.name, ' - Price:', get_house_price(h_323))\n",
    "print()\n",
    "for hous in [h_092, h_323, h_500]:\n",
    "    print('House:',  hous.name, ' - Price:', get_house_price(hous))\n",
    "\n",
    "\n",
    "\n"
   ]
  },
  {
   "cell_type": "code",
   "execution_count": null,
   "metadata": {},
   "outputs": [],
   "source": []
  },
  {
   "cell_type": "code",
   "execution_count": null,
   "metadata": {},
   "outputs": [],
   "source": [
    "y"
   ]
  },
  {
   "attachments": {},
   "cell_type": "markdown",
   "metadata": {},
   "source": [
    "- Prediction: after the model has been fit, you can apply it to new data to predict prices of additional homes (by example in this case)."
   ]
  }
 ],
 "metadata": {
  "kernelspec": {
   "display_name": "Python 3",
   "language": "python",
   "name": "python3"
  },
  "language_info": {
   "codemirror_mode": {
    "name": "ipython",
    "version": 3
   },
   "file_extension": ".py",
   "mimetype": "text/x-python",
   "name": "python",
   "nbconvert_exporter": "python",
   "pygments_lexer": "ipython3",
   "version": "3.11.0"
  },
  "orig_nbformat": 4
 },
 "nbformat": 4,
 "nbformat_minor": 2
}

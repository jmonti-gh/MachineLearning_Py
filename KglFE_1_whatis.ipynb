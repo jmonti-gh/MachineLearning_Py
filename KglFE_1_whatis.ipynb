{
 "cells": [
  {
   "cell_type": "markdown",
   "id": "f7aa5954-0f45-4fc1-970d-0ae328540a79",
   "metadata": {},
   "source": [
    "# Kaggle Feature Engineering microcurse\n",
    "- Better features make better models. \n",
    "- Discover how to get the most out of your data\n",
    "- https://www.kaggle.com/learn/feature-engineering"
   ]
  },
  {
   "cell_type": "markdown",
   "id": "f97cbd0e-4259-4ea7-88c3-ca592e8d5b55",
   "metadata": {},
   "source": [
    "## What Is Feature Engineering\n",
    "- Learn the steps and principles of creating better features\n",
    "1. determine which features are the most importan with *mutual information*\n",
    "2. invent new features in several real-world problem domains\n",
    "3. encode hisgh-cardinality categoricals with a *target encoding*\n",
    "4. create segmentation features with *k-means clustering*\n",
    "5. decompose a dataset´s variation into features with *principal component analysis*"
   ]
  },
  {
   "cell_type": "markdown",
   "id": "bd25df41-0442-4fbe-a005-be129fbe502b",
   "metadata": {},
   "source": [
    "## The Goal of Feature Engineering\n",
    "- make your data better suited to the problem at hand\n",
    "1. improve a model´s predictive performance\n",
    "2. reduce comupational or data needs\n",
    "3. improve interpretability of the resutls"
   ]
  },
  {
   "cell_type": "markdown",
   "id": "8b8cebef-9e56-44ee-b90e-5a165511f913",
   "metadata": {},
   "source": [
    "## A Guiding Principle of Feature Engineering\n",
    "- For a feature to be useful, it must have a relatoinship to the target that your model es able to learn.\n",
    "- Linear models, for instance, are only able to learn linear relationships.\n",
    "- So, when using a liner model, your goal is to transform the features to make their relationship to the target linear.\n",
    "- The key ideas here is that a transformation you apply to a feature becomes in essence part of the model itself.\n",
    "- ex. trying to predict Price of square plots of land from de Lenght, the relationship (b/price and Lenght) will be linear only if we transform lentght to area (are squares)."
   ]
  },
  {
   "cell_type": "code",
   "execution_count": null,
   "id": "62ca90a8-d15b-4062-a162-12f11338abf1",
   "metadata": {},
   "outputs": [],
   "source": []
  },
  {
   "cell_type": "code",
   "execution_count": null,
   "id": "aa8e6a8a-a128-4ed4-87c4-9563ed6e2a49",
   "metadata": {},
   "outputs": [],
   "source": []
  },
  {
   "cell_type": "code",
   "execution_count": null,
   "id": "506ec6cf-6fd7-4e3f-834a-922b6befa5f9",
   "metadata": {},
   "outputs": [],
   "source": []
  },
  {
   "cell_type": "code",
   "execution_count": null,
   "id": "6243cc59-6e67-4e63-80e0-20e8894317f1",
   "metadata": {},
   "outputs": [],
   "source": []
  },
  {
   "cell_type": "code",
   "execution_count": null,
   "id": "00b2afb2-39c9-4fbd-b10e-0a0a7c6c7897",
   "metadata": {},
   "outputs": [],
   "source": []
  },
  {
   "cell_type": "code",
   "execution_count": null,
   "id": "7a5a2389-c4e6-4709-9a40-409934fe5c43",
   "metadata": {},
   "outputs": [],
   "source": []
  }
 ],
 "metadata": {
  "kernelspec": {
   "display_name": "Python 3 (ipykernel)",
   "language": "python",
   "name": "python3"
  },
  "language_info": {
   "codemirror_mode": {
    "name": "ipython",
    "version": 3
   },
   "file_extension": ".py",
   "mimetype": "text/x-python",
   "name": "python",
   "nbconvert_exporter": "python",
   "pygments_lexer": "ipython3",
   "version": "3.11.3"
  }
 },
 "nbformat": 4,
 "nbformat_minor": 5
}

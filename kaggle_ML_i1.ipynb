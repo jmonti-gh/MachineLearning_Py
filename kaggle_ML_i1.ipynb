{
 "cells": [
  {
   "attachments": {},
   "cell_type": "markdown",
   "metadata": {},
   "source": [
    "# kaggle - Learn: Intermediate Machine Learning\n",
    "- https://www.kaggle.com/learn/intermediate-machine-learning"
   ]
  },
  {
   "attachments": {},
   "cell_type": "markdown",
   "metadata": {},
   "source": [
    "## 1.- Introduction\n",
    "Learn in this microcourse:\n",
    "- tackle data types (__missing values, categorical variables__), often found in real-world datasets.\n",
    "- design __pipelines__ to improve the quality of your ML code.\n",
    "- use advance techniques for model validation (__cross_validation__),\n",
    "- build state-of-the-art models (__XGBoost__), widely use to win Kaggle competitions.\n",
    "- avoid common and important data science mistakes (__leakage__)"
   ]
  },
  {
   "attachments": {},
   "cell_type": "markdown",
   "metadata": {},
   "source": [
    "## 2. Prerequisites - Review what you need for this course."
   ]
  },
  {
   "attachments": {},
   "cell_type": "markdown",
   "metadata": {},
   "source": [
    "#### 2.1.- Model Validation\n",
    "- Evaluate 'almost' every model you build. In most (though no all) cases the measure of model quality is predictive accuracy.\n",
    "- Comparing predicted and actual values will show us good and bad predictions <- __Evaluate__.\n",
    "- __MAE: Mean Absolute Error__: one of many metrics for summarizing model quality.\n",
    "- *form sklearn.metrics import mean_absolute error*\n",
    "\n",
    "##### \"In-Sample\" Scores\n",
    "- Don't use the same data to build and evaluate the model.\n",
    "- Then separate the single sample (data) with __train_test_split__. Training Data and Validation Data (or Test Data).\n",
    "- Use Training D to build (fit or train) the model and Validation D to Evaluate the model.\n",
    "- *from sklearn.model_selection import train_test_split*.\n",
    "\n",
    "#### Known Models\n",
    "- *from sklearn.tree import DecisionTreeRegressor*\n",
    "- *from sklearn.ensemble import RandomForestRegressor*"
   ]
  },
  {
   "attachments": {},
   "cell_type": "markdown",
   "metadata": {},
   "source": [
    "#### 2.2.- Underfitting and Overfitting\n",
    "- Fine-tune a model for better performance.\n",
    "- __overfitting__: capturing spurious patterns that won't recur in the future, leading to less accurate predics - [too, too many leaves (with very few cases each leaf). Predics that are quite close with actual values but unreliable predics in new data (cause e/pred. is base on few cases)]\n",
    "- __underfitting__: failing to capture relevant patterns, again leading to less accurate predictions. - [a model fails to capture important distinctions and patterns in data, it performs poorly in both training and new data.]\n",
    "- *DecisionTreeRegressor(max_leaf_nodes=XX, random_state=NN); train_test_split(X, y, random_state=NN)*"
   ]
  },
  {
   "attachments": {},
   "cell_type": "markdown",
   "metadata": {},
   "source": [
    "#### 2.3.- Random Forest\n",
    "- Using a more sophisticated ML algorithm than DecisionTree\n",
    "- RandomForestRegressor parameters... ¿?\n",
    "> JM: two ways to improve one model: 1. experiment to find more or better features (cols to use to predict value col) and 2. change parameters values of the model. - Could exist better models to use, of course, like RandomForest > DecisionTree"
   ]
  },
  {
   "cell_type": "markdown",
   "metadata": {},
   "source": []
  },
  {
   "attachments": {},
   "cell_type": "markdown",
   "metadata": {},
   "source": [
    "### A simple model (decision tree), training, and predicting.\n",
    "- Identified Patterns: he's identified price patterns from houses he has seen in the past, and he uses those patterns to make predictions for new houses he is considering.\n",
    "- Decision tree model: easy to understand, and the basic building block for some of the best models in data science. There are fancier models that give more accurate predictions.\n",
    "- Simplest possible decision tree: it divides houses into only two categories (Does house has more than 2 bedrooms? Yes or No). The predicted price for any house under consideration is the historical average price of houses in the same category.\n",
    "- We use data to decide how to break the houses into two groups, and then again to determine the predicted price in each group.\n",
    "- This step of capturing patterns from data is called fitting or training the model.\n",
    "- The data used to fit the model is called the training data (complete data set, nothing to predict). Only fit or train at this time.\n",
    "- The details of how the model is fit (e.g. how to split up the data) is complex enough that we will save it for later.\n",
    "- Prediction: after the model has been fit, you can apply it to new data to predict prices of additional homes (by example in this case)."
   ]
  }
 ],
 "metadata": {
  "kernelspec": {
   "display_name": "Python 3",
   "language": "python",
   "name": "python3"
  },
  "language_info": {
   "codemirror_mode": {
    "name": "ipython",
    "version": 3
   },
   "file_extension": ".py",
   "mimetype": "text/x-python",
   "name": "python",
   "nbconvert_exporter": "python",
   "pygments_lexer": "ipython3",
   "version": "3.11.0"
  },
  "orig_nbformat": 4
 },
 "nbformat": 4,
 "nbformat_minor": 2
}
